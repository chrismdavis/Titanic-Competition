{
 "cells": [
  {
   "cell_type": "markdown",
   "id": "4363ea37",
   "metadata": {},
   "source": [
    "# <center> Titanic Survival Prediction Competition </center>\n"
   ]
  },
  {
   "cell_type": "markdown",
   "id": "5fd6bd00",
   "metadata": {},
   "source": [
    "#### <center> Chris Davis <br> November, 2021 </center>"
   ]
  },
  {
   "cell_type": "code",
   "execution_count": 1,
   "id": "f39cf5b0",
   "metadata": {},
   "outputs": [],
   "source": [
    "# Import Packages\n",
    "import pandas as pd\n",
    "from sklearn.metrics import accuracy_score\n",
    "from sklearn.model_selection import train_test_split\n",
    "import matplotlib.pyplot as plt\n",
    "from sklearn.model_selection import GridSearchCV\n",
    "from sklearn.ensemble import RandomForestClassifier\n",
    "from sklearn.ensemble import RandomForestRegressor\n",
    "from sklearn.metrics import mean_absolute_error"
   ]
  },
  {
   "cell_type": "code",
   "execution_count": 2,
   "id": "ce43e264",
   "metadata": {},
   "outputs": [
    {
     "name": "stdout",
     "output_type": "stream",
     "text": [
      "       Variable   NA_Rate\n",
      "10        Cabin  0.771044\n",
      "5           Age  0.198653\n",
      "11     Embarked  0.002245\n",
      "0   PassengerId  0.000000\n",
      "1      Survived  0.000000\n",
      "2        Pclass  0.000000\n",
      "3          Name  0.000000\n",
      "4           Sex  0.000000\n",
      "6         SibSp  0.000000\n",
      "7         Parch  0.000000\n",
      "8        Ticket  0.000000\n",
      "9          Fare  0.000000\n"
     ]
    }
   ],
   "source": [
    "# Import training dataset\n",
    "df = pd.read_csv('train.csv')\n",
    "\n",
    "# Check for missing data\n",
    "NA_df = pd.DataFrame(columns = ['Variable', 'NA_Rate'])\n",
    "\n",
    "for i in df.columns:\n",
    "    NA_cnt = df[i].isna().sum()\n",
    "    NA_df.loc[len(NA_df)] = [i, NA_cnt/len(df)]\n",
    "\n",
    "print(NA_df.sort_values(by = 'NA_Rate', ascending = False))"
   ]
  },
  {
   "cell_type": "markdown",
   "id": "bb251c5c",
   "metadata": {},
   "source": [
    "Transform cabin variable into a binary variable denoting whether or not a passenger has a cabin, the grade of the cabin, and the count of cabins. Additionally, removing original cabin variable that contains NA variables."
   ]
  },
  {
   "cell_type": "code",
   "execution_count": 3,
   "id": "eb5fa70e",
   "metadata": {},
   "outputs": [
    {
     "name": "stdout",
     "output_type": "stream",
     "text": [
      "          Cabin  Cabin_Binary  Cabin_Cnt  Cabin_Grd\n",
      "0           NaN         False          0          0\n",
      "1           C85          True          1          3\n",
      "2           NaN         False          0          0\n",
      "3          C123          True          1          3\n",
      "4           NaN         False          0          0\n",
      "5           NaN         False          0          0\n",
      "6           E46          True          1          5\n",
      "7           NaN         False          0          0\n",
      "8           NaN         False          0          0\n",
      "9           NaN         False          0          0\n",
      "10           G6          True          1          7\n",
      "11         C103          True          1          3\n",
      "12          NaN         False          0          0\n",
      "13          NaN         False          0          0\n",
      "14          NaN         False          0          0\n",
      "15          NaN         False          0          0\n",
      "16          NaN         False          0          0\n",
      "17          NaN         False          0          0\n",
      "18          NaN         False          0          0\n",
      "19          NaN         False          0          0\n",
      "20          NaN         False          0          0\n",
      "21          D56          True          1          4\n",
      "22          NaN         False          0          0\n",
      "23           A6          True          1          1\n",
      "24          NaN         False          0          0\n",
      "25          NaN         False          0          0\n",
      "26          NaN         False          0          0\n",
      "27  C23 C25 C27          True          3          3\n",
      "28          NaN         False          0          0\n",
      "29          NaN         False          0          0\n"
     ]
    }
   ],
   "source": [
    "#Transform Cabin Variable\n",
    "## Create binary variable\n",
    "Cabin_Binary = pd.notnull(df['Cabin'])\n",
    "df['Cabin_Binary'] = Cabin_Binary\n",
    "\n",
    "## Create Cabin and cabin letter grade\n",
    "Cabin_Cnt = []\n",
    "Cabin_Grd = []\n",
    "\n",
    "for i in df.Cabin:\n",
    "    if pd.isnull(i):\n",
    "        Cabin_Cnt.append(0)\n",
    "    else:\n",
    "        Cabin_Cnt.append(i.count(' ')+1)\n",
    "\n",
    "    if pd.isnull(i):\n",
    "        Cabin_Grd.append(0)\n",
    "    else:\n",
    "        cnt = 0\n",
    "        grd = 0\n",
    "        for j in ['A','B','C','D','E','F','G','T']:\n",
    "            cnt += 1\n",
    "            if i.count(j)>0 and grd == 0:\n",
    "                grd = cnt\n",
    "\n",
    "        Cabin_Grd.append(grd)\n",
    "\n",
    "df['Cabin_Cnt'] = Cabin_Cnt\n",
    "df['Cabin_Grd'] = Cabin_Grd\n",
    "\n",
    "#View cabin columns\n",
    "print(df[['Cabin','Cabin_Binary', 'Cabin_Cnt','Cabin_Grd']].head(30))\n",
    "\n",
    "#drop cabin\n",
    "df.drop(['Cabin'], axis = 1, inplace=True)"
   ]
  },
  {
   "cell_type": "markdown",
   "id": "9581aee0",
   "metadata": {},
   "source": [
    "Imputing 'embarked' NA values with most common port and creating dummy variables."
   ]
  },
  {
   "cell_type": "code",
   "execution_count": 4,
   "id": "c79a685e",
   "metadata": {},
   "outputs": [
    {
     "data": {
      "text/plain": [
       "Embarked\n",
       "C    168\n",
       "Q     77\n",
       "S    644\n",
       "dtype: int64"
      ]
     },
     "execution_count": 4,
     "metadata": {},
     "output_type": "execute_result"
    }
   ],
   "source": [
    "# View port distribution\n",
    "df.groupby(by = 'Embarked').size()"
   ]
  },
  {
   "cell_type": "code",
   "execution_count": 5,
   "id": "9adb64b6",
   "metadata": {},
   "outputs": [],
   "source": [
    "# Impute embarked NAs with most common port\n",
    "df.Embarked.fillna(value = 'S', inplace = True)\n",
    "\n",
    "# Create dummy variables\n",
    "df = pd.concat([df, pd.get_dummies(df['Embarked'])], axis=1)\n",
    "df.drop(['Embarked'],axis = 1, inplace = True)"
   ]
  },
  {
   "cell_type": "markdown",
   "id": "47bfef02",
   "metadata": {},
   "source": [
    "Create dummy variables for sex"
   ]
  },
  {
   "cell_type": "code",
   "execution_count": 6,
   "id": "06e59ac2",
   "metadata": {},
   "outputs": [],
   "source": [
    "# Create dummy variables for sex\n",
    "df = pd.concat([df, pd.get_dummies(df['Sex'])], axis=1)\n",
    "df.drop(['Sex'],axis = 1, inplace = True)"
   ]
  },
  {
   "cell_type": "markdown",
   "id": "2110c0a0",
   "metadata": {},
   "source": [
    "Converting missing ticket number values to the average value."
   ]
  },
  {
   "cell_type": "code",
   "execution_count": 7,
   "id": "20b57e77",
   "metadata": {},
   "outputs": [],
   "source": [
    "#Ticket number\n",
    "Ticket_lst = []\n",
    "\n",
    "for i in df.Ticket:\n",
    "    lst = i.split()\n",
    "    Ticket_lst.append(lst[-1:][0])\n",
    "\n",
    "df['Ticket'] = Ticket_lst\n",
    "\n",
    "#Convert missing tickets to average\n",
    "Avg_Ticket = round(pd.to_numeric(df['Ticket'][df.Ticket.apply(lambda x: x.isnumeric()==True)]).mean(),0)\n",
    "df['Ticket'] = df['Ticket'].apply(lambda x: Avg_Ticket if x.isnumeric()==False else x)\n"
   ]
  },
  {
   "cell_type": "markdown",
   "id": "de5d98d8",
   "metadata": {},
   "source": [
    "Add column for length of name."
   ]
  },
  {
   "cell_type": "code",
   "execution_count": 8,
   "id": "4d30e7f7",
   "metadata": {},
   "outputs": [],
   "source": [
    "# Name length\n",
    "Name_Length = [len(i) for i in df.Name]\n",
    "df['Name_Length'] = Name_Length"
   ]
  },
  {
   "cell_type": "markdown",
   "id": "18bd07e6",
   "metadata": {},
   "source": [
    "Create binary column for the existence of an alias name. Standardize titles into broader categories and convert into a dummy variable."
   ]
  },
  {
   "cell_type": "code",
   "execution_count": 9,
   "id": "5c9c7ceb",
   "metadata": {},
   "outputs": [],
   "source": [
    "# Name has alias\n",
    "Name_Alias = []\n",
    "\n",
    "for i in df.Name:\n",
    "    if i.count('('):\n",
    "        Name_Alias.append(True)\n",
    "    else:\n",
    "        Name_Alias.append(False)\n",
    "\n",
    "df['Name_Alias'] = Name_Alias\n",
    "\n",
    "\n",
    "df[['Name_Alias', 'Name']]\n",
    "\n",
    "#Titles\n",
    "title_lst = ['Mr.','Miss.','Ms.','Mrs.','Lady.','Capt.','Sir.','Col.','Master.','Mme.','Mlle.','Major.','Dr.','Countess.','Rev.','Don.','Jonkheer.']\n",
    "Titles = []\n",
    "\n",
    "#Create title column\n",
    "for i in range(len(df)):\n",
    "    Name = df.Name.iloc[i]\n",
    "    Title = \"None\"\n",
    "    for j in title_lst:\n",
    "        if Name.count(j) > 0:\n",
    "            Title = j\n",
    "\n",
    "    Titles.append(Title)\n",
    "\n",
    "df['Title'] = Titles\n",
    "\n",
    "#View distribution\n",
    "df.groupby(by = ['Title']).size()\n",
    "\n",
    "#Standardize\n",
    "dict1 = {'Ms.': 'Miss',\n",
    "        'Mlle.': 'Miss',\n",
    "        'Mme.': 'Mrs.',\n",
    "        'Mlle.': 'Miss',\n",
    "        'Lady.': 'Mrs.',\n",
    "        'Countess.': 'Mrs.',\n",
    "        'Sir.': 'Mr.',\n",
    "        'Jonkheer.': 'Mr.',\n",
    "        'Don.': 'Special',\n",
    "        'Dr.': 'Special',\n",
    "        'Master.': 'Special',\n",
    "        'Rev.': 'Special',\n",
    "        'Col.': 'Military',\n",
    "        'Major.': 'Military',\n",
    "        'Capt.': 'Military',\n",
    "        'Miss.': 'Miss.',\n",
    "        'Mr.':'Mr.',\n",
    "        'Mrs.':'Mrs.'}\n",
    "\n",
    "df['Title_Std'] = df['Title'].map(dict1)\n",
    "\n",
    "#Drop Name and Title\n",
    "df.drop(['Name','Title'],axis = 1, inplace = True)\n",
    "\n",
    "#Create dummy columns\n",
    "df = pd.concat([df, pd.get_dummies(df['Title_Std'])], axis=1)\n",
    "df.drop(['Title_Std'],axis = 1, inplace = True)"
   ]
  },
  {
   "cell_type": "markdown",
   "id": "18333d27",
   "metadata": {},
   "source": [
    "Create a random forest model to predict and impute missing ages."
   ]
  },
  {
   "cell_type": "code",
   "execution_count": 10,
   "id": "9beb4dba",
   "metadata": {},
   "outputs": [],
   "source": [
    "# Convert to numeric\n",
    "df = df.apply(pd.to_numeric)\n",
    "\n",
    "# Create reduced df to create model\n",
    "df_age_model = df[df.Age.notnull()]\n",
    "\n",
    "#TrainTestdf_model\n",
    "X1 = df_age_model.drop(['Age','PassengerId','Survived'], axis = 1)\n",
    "y1 = df_age_model['Age']\n",
    "\n",
    "# Create default model\n",
    "test_model = RandomForestRegressor()\n",
    "\n",
    "#Train the model\n",
    "test_model.fit(X1, y1);"
   ]
  },
  {
   "cell_type": "code",
   "execution_count": 11,
   "id": "456eb8fb",
   "metadata": {},
   "outputs": [
    {
     "name": "stdout",
     "output_type": "stream",
     "text": [
      "        Variable  Importance\n",
      "0         Ticket    0.191865\n",
      "1           Fare    0.144758\n",
      "2         Pclass    0.130441\n",
      "3    Name_Length    0.124161\n",
      "4          Parch    0.117132\n",
      "5          Miss.    0.066105\n",
      "6          SibSp    0.058700\n",
      "7        Special    0.051537\n",
      "8            Mr.    0.022243\n",
      "9      Cabin_Grd    0.018166\n",
      "10          Mrs.    0.017239\n",
      "11    Name_Alias    0.012211\n",
      "12             S    0.008624\n",
      "13             C    0.008244\n",
      "14     Cabin_Cnt    0.007479\n",
      "15             Q    0.005445\n",
      "16      Military    0.005003\n",
      "17        female    0.004012\n",
      "18          male    0.003614\n",
      "19  Cabin_Binary    0.001766\n",
      "20          Miss    0.001257\n"
     ]
    }
   ],
   "source": [
    "# Get numerical feature importances\n",
    "f_importance = list(test_model.feature_importances_)\n",
    "Results1 = pd.DataFrame(columns = [\"Variable\", \"Importance\"])\n",
    "Results1.Variable = X1.columns\n",
    "Results1.Importance = list(test_model.feature_importances_)\n",
    "Results1 = Results1.sort_values(by=['Importance'],ascending=False)\n",
    "Results1 = Results1.reset_index(drop=True)\n",
    "\n",
    "print(Results1)"
   ]
  },
  {
   "cell_type": "markdown",
   "id": "977a4c00",
   "metadata": {},
   "source": [
    "Loop through variable selection sizes and store model performance."
   ]
  },
  {
   "cell_type": "code",
   "execution_count": 13,
   "id": "8e6b587b",
   "metadata": {},
   "outputs": [
    {
     "data": {
      "image/png": "[encoded data removed]",
      "text/plain": [
       "<Figure size 432x288 with 1 Axes>"
      ]
     },
     "metadata": {},
     "output_type": "display_data"
    },
    {
     "data": {
      "text/plain": [
       "<Figure size 7200x4800 with 0 Axes>"
      ]
     },
     "metadata": {},
     "output_type": "display_data"
    },
    {
     "name": "stdout",
     "output_type": "stream",
     "text": [
      "    Var_cnt        MAE\n",
      "0       1.0  11.868548\n",
      "1       2.0  11.334867\n",
      "2       3.0  11.171532\n",
      "3       4.0  10.288988\n",
      "4       5.0  10.034688\n",
      "5       6.0   9.594490\n",
      "6       7.0   9.486033\n",
      "7       8.0   8.822777\n",
      "8       9.0   8.685479\n",
      "9      10.0   9.001902\n",
      "10     11.0   9.030036\n",
      "11     12.0   9.078815\n",
      "12     13.0   8.860532\n",
      "13     14.0   9.106812\n",
      "14     15.0   8.987459\n",
      "15     16.0   8.965279\n",
      "16     17.0   9.002586\n",
      "17     18.0   8.991424\n",
      "18     19.0   9.013545\n",
      "19     20.0   9.075719\n"
     ]
    }
   ],
   "source": [
    "# Create empty dataframe to store results\n",
    "Results2 = pd.DataFrame(columns = [\"Var_cnt\", \"MAE\"])\n",
    "\n",
    "#Loop through dataset sizes from 1 to n variables (sorted by feature importance) and return model accurcay\n",
    "for i in range(1,len(Results1)):\n",
    "    X_n = df_age_model[df_age_model.columns.intersection(Results1.Variable.head(i))]\n",
    "    y_n = df_age_model[\"Age\"]\n",
    "\n",
    "    X_train_n, X_test_n, y_train_n, y_test_n = train_test_split(X_n, y_n, test_size=0.2, random_state=30)\n",
    "\n",
    "    #Create model instance\n",
    "    rf = RandomForestRegressor()\n",
    "\n",
    "    #Train the model\n",
    "    rf.fit(X_train_n, y_train_n);\n",
    "\n",
    "    #Create model predictions\n",
    "    predictions = rf.predict(X_test_n)\n",
    "\n",
    "    #Calculate prediction error percent\n",
    "\n",
    "    #Calculate accuracy\n",
    "    MAE = mean_absolute_error(y_test_n, predictions)\n",
    "\n",
    "    #Store Results\n",
    "    Results2 = Results2.append({\"Var_cnt\":  i, \"MAE\": MAE}, ignore_index = True)\n",
    "\n",
    "\n",
    "#Plot Results\n",
    "plt.style.use('grayscale')\n",
    "plt.plot(Results2[\"Var_cnt\"], Results2[\"MAE\"], label = \"MAE\")\n",
    "plt.suptitle('Model Size Comparison')\n",
    "plt.xlabel('Variable Count')\n",
    "plt.ylabel('Mean Absolute Error')\n",
    "plt.xticks([i*5 for i in range(0,4)])\n",
    "plt.grid(which = 'major', alpha = .7)\n",
    "plt.grid(which = 'minor', alpha = .1)\n",
    "plt.minorticks_on()\n",
    "plt.legend()\n",
    "plt.figure(dpi=1200)\n",
    "plt.show()\n",
    "\n",
    "print(Results2)"
   ]
  },
  {
   "cell_type": "markdown",
   "id": "b84eb639",
   "metadata": {},
   "source": [
    "Create model with best performing model size = first 9 variables."
   ]
  },
  {
   "cell_type": "code",
   "execution_count": 14,
   "id": "c2ffe1c6",
   "metadata": {},
   "outputs": [
    {
     "name": "stdout",
     "output_type": "stream",
     "text": [
      "Mean Absolute Error: 8.99\n"
     ]
    }
   ],
   "source": [
    "# Create reduced data set\n",
    "Reduced_var_list = Results1.Variable[:9].to_list()\n",
    "Reduced_var_list.append(\"Age\")\n",
    "df_reduced = df_age_model[Reduced_var_list]\n",
    "\n",
    "#Create feature and response variable subsets\n",
    "X2 = df_reduced.drop(\"Age\",axis = 1)\n",
    "y2 = df_reduced[\"Age\"]\n",
    "\n",
    "#Split Data\n",
    "X_train2, X_test2, y_train2, y_test2 = train_test_split(X2, y2, test_size=0.2, random_state = 30)\n",
    "\n",
    "age_model = RandomForestRegressor()\n",
    "\n",
    "# Train the model on training data\n",
    "age_model.fit(X_train2, y_train2)\n",
    "\n",
    "#Create model predictions\n",
    "predictions = age_model.predict(X_test2)\n",
    "\n",
    "#Calculate mean absolute percentage error\n",
    "MAE = mean_absolute_error(y_test_n, predictions)\n",
    "\n",
    "#Print result\n",
    "print('Mean Absolute Error:',round(MAE,2))"
   ]
  },
  {
   "cell_type": "markdown",
   "id": "6be24bd8",
   "metadata": {},
   "source": [
    "Fill in missing age values with predictions from the model."
   ]
  },
  {
   "cell_type": "code",
   "execution_count": 15,
   "id": "6856e666",
   "metadata": {},
   "outputs": [],
   "source": [
    "# Create predictions\n",
    "Age_Prediction = age_model.predict(df[Results1.Variable[:9].to_list()])\n",
    "\n",
    "df['Age_Pred'] = Age_Prediction\n",
    "\n",
    "Age_Cln = []\n",
    "for i in range(len(df)):\n",
    "    x = df['Age'].iloc[i]\n",
    "    if pd.isnull(x):\n",
    "        Age_Cln.append(df['Age_Pred'].iloc[i])\n",
    "    else:\n",
    "        Age_Cln.append(x)\n",
    "\n",
    "df['Age_Cln'] = Age_Cln\n",
    "\n",
    "df = df.drop(['Age','Age_Pred'], axis = 1)"
   ]
  },
  {
   "cell_type": "markdown",
   "id": "cd2fc9b4",
   "metadata": {},
   "source": [
    "Database is cleaned and ready to start passenger survival prediction model. First, calculate feature importances using a default RF classifier model."
   ]
  },
  {
   "cell_type": "code",
   "execution_count": 16,
   "id": "6c6fcdcc",
   "metadata": {},
   "outputs": [
    {
     "name": "stdout",
     "output_type": "stream",
     "text": [
      "        Variable  Importance\n",
      "0         Ticket    0.146930\n",
      "1        Age_Cln    0.125296\n",
      "2           Fare    0.114051\n",
      "3    Name_Length    0.107756\n",
      "4            Mr.    0.104339\n",
      "5           male    0.073258\n",
      "6         female    0.060872\n",
      "7         Pclass    0.048526\n",
      "8          SibSp    0.032689\n",
      "9      Cabin_Grd    0.028250\n",
      "10         Miss.    0.026035\n",
      "11         Parch    0.023355\n",
      "12    Name_Alias    0.022401\n",
      "13     Cabin_Cnt    0.020237\n",
      "14          Mrs.    0.016963\n",
      "15  Cabin_Binary    0.013636\n",
      "16             S    0.011827\n",
      "17             C    0.008681\n",
      "18       Special    0.007170\n",
      "19             Q    0.006310\n",
      "20      Military    0.001195\n",
      "21          Miss    0.000221\n"
     ]
    }
   ],
   "source": [
    "#TrainTestdf_model\n",
    "X1 = df.drop(['Survived','PassengerId'], axis = 1)\n",
    "y1 = df['Survived']\n",
    "\n",
    "# Create default model\n",
    "test_model = RandomForestClassifier()\n",
    "\n",
    "#Train the model\n",
    "test_model.fit(X1, y1)\n",
    "\n",
    "# Get numerical feature importances\n",
    "f_importance = list(test_model.feature_importances_)\n",
    "Results3 = pd.DataFrame(columns = [\"Variable\", \"Importance\"])\n",
    "Results3.Variable = X1.columns\n",
    "Results3.Importance = list(test_model.feature_importances_)\n",
    "Results3 = Results3.sort_values(by=['Importance'],ascending=False)\n",
    "Results3 = Results3.reset_index(drop=True)\n",
    "\n",
    "print(Results3)"
   ]
  },
  {
   "cell_type": "markdown",
   "id": "4f6be990",
   "metadata": {},
   "source": [
    "Create and test performance for each model size while looping through sorted variables."
   ]
  },
  {
   "cell_type": "code",
   "execution_count": 17,
   "id": "a629ba63",
   "metadata": {},
   "outputs": [
    {
     "data": {
      "image/png": "[encoded data removed]",
      "text/plain": [
       "<Figure size 432x288 with 1 Axes>"
      ]
     },
     "metadata": {},
     "output_type": "display_data"
    },
    {
     "data": {
      "text/plain": [
       "<Figure size 7200x4800 with 0 Axes>"
      ]
     },
     "metadata": {},
     "output_type": "display_data"
    },
    {
     "name": "stdout",
     "output_type": "stream",
     "text": [
      "    Var_cnt      accu\n",
      "0       1.0  0.603352\n",
      "1       2.0  0.603352\n",
      "2       3.0  0.670391\n",
      "3       4.0  0.698324\n",
      "4       5.0  0.810056\n",
      "5       6.0  0.815642\n",
      "6       7.0  0.804469\n",
      "7       8.0  0.832402\n",
      "8       9.0  0.849162\n",
      "9      10.0  0.832402\n",
      "10     11.0  0.826816\n",
      "11     12.0  0.826816\n",
      "12     13.0  0.826816\n",
      "13     14.0  0.826816\n",
      "14     15.0  0.810056\n",
      "15     16.0  0.815642\n",
      "16     17.0  0.821229\n",
      "17     18.0  0.815642\n",
      "18     19.0  0.821229\n",
      "19     20.0  0.810056\n",
      "20     21.0  0.810056\n"
     ]
    }
   ],
   "source": [
    "# Create empty dataframe to store results\n",
    "Results4 = pd.DataFrame(columns = [\"Var_cnt\", \"accu\"])\n",
    "\n",
    "#Loop through dataset sizes from 1 to n variables (sorted by feature importance) and return model accurcay\n",
    "for i in range(1,len(Results3)):\n",
    "    X_n = df[df_age_model.columns.intersection(Results3.Variable.head(i))]\n",
    "    y_n = df[\"Survived\"]\n",
    "\n",
    "    X_train_n, X_test_n, y_train_n, y_test_n = train_test_split(X_n, y_n, test_size=0.2, random_state=30)\n",
    "\n",
    "    #Create model instance\n",
    "    rf = RandomForestClassifier()\n",
    "\n",
    "    #Train the model\n",
    "    rf.fit(X_train_n, y_train_n)\n",
    "\n",
    "    #Create model predictions\n",
    "    predictions = rf.predict(X_test_n)\n",
    "\n",
    "    #Calculate accuracy\n",
    "    accu = accuracy_score(predictions, y_test_n)\n",
    "\n",
    "    #Store Results\n",
    "    Results4 = Results4.append({\"Var_cnt\":  i, \"accu\": accu}, ignore_index = True)\n",
    "\n",
    "#Plot Results\n",
    "plt.style.use('grayscale')\n",
    "plt.plot(Results4[\"Var_cnt\"], Results4[\"accu\"], label = \"accu\")\n",
    "plt.suptitle('Model Size Comparison')\n",
    "plt.xlabel('Variable Count')\n",
    "plt.ylabel('Accuracy')\n",
    "plt.xticks([i*5 for i in range(0,4)])\n",
    "plt.grid(which = 'major', alpha = .7)\n",
    "plt.grid(which = 'minor', alpha = .1)\n",
    "plt.minorticks_on()\n",
    "plt.legend()\n",
    "plt.figure(dpi=1200)\n",
    "plt.show()\n",
    "\n",
    "print(Results4)"
   ]
  },
  {
   "cell_type": "markdown",
   "id": "979d6982",
   "metadata": {},
   "source": [
    "Best accuracy achieved at 9 variables. Creating test/train set with selected variables."
   ]
  },
  {
   "cell_type": "code",
   "execution_count": 18,
   "id": "8550b0ba",
   "metadata": {},
   "outputs": [],
   "source": [
    "Reduced_var_list = Results3.Variable[:9].to_list()\n",
    "Reduced_var_list.append('Survived')\n",
    "df_reduced = df[Reduced_var_list]\n",
    "\n",
    "#Create feature and response variable subsets\n",
    "X2 = df_reduced.drop('Survived',axis = 1)\n",
    "y2 = df_reduced['Survived']\n",
    "\n",
    "#Split Data\n",
    "X_train2, X_test2, y_train2, y_test2 = train_test_split(X2, y2, test_size=0.2, random_state = 30)"
   ]
  },
  {
   "cell_type": "markdown",
   "id": "4cd4ceb4",
   "metadata": {},
   "source": [
    "Hypertune model using grid search."
   ]
  },
  {
   "cell_type": "code",
   "execution_count": 19,
   "id": "1f57f9bb",
   "metadata": {},
   "outputs": [
    {
     "name": "stdout",
     "output_type": "stream",
     "text": [
      "Fitting 10 folds for each of 36 candidates, totalling 360 fits\n",
      "[CV 1/10] END bootstrap=True, criterion=gini, max_features=auto, n_estimators=100;, score=0.764 total time=   0.0s\n",
      "[CV 2/10] END bootstrap=True, criterion=gini, max_features=auto, n_estimators=100;, score=0.847 total time=   0.0s\n",
      "[CV 3/10] END bootstrap=True, criterion=gini, max_features=auto, n_estimators=100;, score=0.803 total time=   0.0s\n",
      "[CV 4/10] END bootstrap=True, criterion=gini, max_features=auto, n_estimators=100;, score=0.859 total time=   0.0s\n",
      "[CV 5/10] END bootstrap=True, criterion=gini, max_features=auto, n_estimators=100;, score=0.915 total time=   0.0s\n",
      "[CV 6/10] END bootstrap=True, criterion=gini, max_features=auto, n_estimators=100;, score=0.775 total time=   0.0s\n",
      "[CV 7/10] END bootstrap=True, criterion=gini, max_features=auto, n_estimators=100;, score=0.859 total time=   0.0s\n",
      "[CV 8/10] END bootstrap=True, criterion=gini, max_features=auto, n_estimators=100;, score=0.873 total time=   0.0s\n",
      "[CV 9/10] END bootstrap=True, criterion=gini, max_features=auto, n_estimators=100;, score=0.831 total time=   0.0s\n",
      "[CV 10/10] END bootstrap=True, criterion=gini, max_features=auto, n_estimators=100;, score=0.803 total time=   0.0s\n",
      "[CV 1/10] END bootstrap=True, criterion=gini, max_features=auto, n_estimators=250;, score=0.750 total time=   0.2s\n",
      "[CV 2/10] END bootstrap=True, criterion=gini, max_features=auto, n_estimators=250;, score=0.847 total time=   0.2s\n",
      "[CV 3/10] END bootstrap=True, criterion=gini, max_features=auto, n_estimators=250;, score=0.803 total time=   0.2s\n",
      "[CV 4/10] END bootstrap=True, criterion=gini, max_features=auto, n_estimators=250;, score=0.859 total time=   0.2s\n",
      "[CV 5/10] END bootstrap=True, criterion=gini, max_features=auto, n_estimators=250;, score=0.915 total time=   0.2s\n",
      "[CV 6/10] END bootstrap=True, criterion=gini, max_features=auto, n_estimators=250;, score=0.803 total time=   0.3s\n",
      "[CV 7/10] END bootstrap=True, criterion=gini, max_features=auto, n_estimators=250;, score=0.845 total time=   0.2s\n",
      "[CV 8/10] END bootstrap=True, criterion=gini, max_features=auto, n_estimators=250;, score=0.859 total time=   0.2s\n",
      "[CV 9/10] END bootstrap=True, criterion=gini, max_features=auto, n_estimators=250;, score=0.845 total time=   0.2s\n",
      "[CV 10/10] END bootstrap=True, criterion=gini, max_features=auto, n_estimators=250;, score=0.803 total time=   0.2s\n",
      "[CV 1/10] END bootstrap=True, criterion=gini, max_features=auto, n_estimators=500;, score=0.764 total time=   0.6s\n",
      "[CV 2/10] END bootstrap=True, criterion=gini, max_features=auto, n_estimators=500;, score=0.833 total time=   0.6s\n",
      "[CV 3/10] END bootstrap=True, criterion=gini, max_features=auto, n_estimators=500;, score=0.803 total time=   0.6s\n",
      "[CV 4/10] END bootstrap=True, criterion=gini, max_features=auto, n_estimators=500;, score=0.873 total time=   0.6s\n",
      "[CV 5/10] END bootstrap=True, criterion=gini, max_features=auto, n_estimators=500;, score=0.930 total time=   0.6s\n",
      "[CV 6/10] END bootstrap=True, criterion=gini, max_features=auto, n_estimators=500;, score=0.789 total time=   0.6s\n",
      "[CV 7/10] END bootstrap=True, criterion=gini, max_features=auto, n_estimators=500;, score=0.845 total time=   0.6s\n",
      "[CV 8/10] END bootstrap=True, criterion=gini, max_features=auto, n_estimators=500;, score=0.901 total time=   0.6s\n",
      "[CV 9/10] END bootstrap=True, criterion=gini, max_features=auto, n_estimators=500;, score=0.831 total time=   0.6s\n",
      "[CV 10/10] END bootstrap=True, criterion=gini, max_features=auto, n_estimators=500;, score=0.803 total time=   0.6s\n",
      "[CV 1/10] END bootstrap=True, criterion=gini, max_features=sqrt, n_estimators=100;, score=0.750 total time=   0.0s\n",
      "[CV 2/10] END bootstrap=True, criterion=gini, max_features=sqrt, n_estimators=100;, score=0.833 total time=   0.0s\n",
      "[CV 3/10] END bootstrap=True, criterion=gini, max_features=sqrt, n_estimators=100;, score=0.803 total time=   0.0s\n",
      "[CV 4/10] END bootstrap=True, criterion=gini, max_features=sqrt, n_estimators=100;, score=0.887 total time=   0.0s\n",
      "[CV 5/10] END bootstrap=True, criterion=gini, max_features=sqrt, n_estimators=100;, score=0.930 total time=   0.0s\n",
      "[CV 6/10] END bootstrap=True, criterion=gini, max_features=sqrt, n_estimators=100;, score=0.775 total time=   0.0s\n",
      "[CV 7/10] END bootstrap=True, criterion=gini, max_features=sqrt, n_estimators=100;, score=0.859 total time=   0.0s\n",
      "[CV 8/10] END bootstrap=True, criterion=gini, max_features=sqrt, n_estimators=100;, score=0.887 total time=   0.0s\n",
      "[CV 9/10] END bootstrap=True, criterion=gini, max_features=sqrt, n_estimators=100;, score=0.845 total time=   0.0s\n",
      "[CV 10/10] END bootstrap=True, criterion=gini, max_features=sqrt, n_estimators=100;, score=0.789 total time=   0.0s\n",
      "[CV 1/10] END bootstrap=True, criterion=gini, max_features=sqrt, n_estimators=250;, score=0.750 total time=   0.2s\n",
      "[CV 2/10] END bootstrap=True, criterion=gini, max_features=sqrt, n_estimators=250;, score=0.847 total time=   0.2s\n",
      "[CV 3/10] END bootstrap=True, criterion=gini, max_features=sqrt, n_estimators=250;, score=0.803 total time=   0.2s\n",
      "[CV 4/10] END bootstrap=True, criterion=gini, max_features=sqrt, n_estimators=250;, score=0.859 total time=   0.2s\n",
      "[CV 5/10] END bootstrap=True, criterion=gini, max_features=sqrt, n_estimators=250;, score=0.915 total time=   0.2s\n",
      "[CV 6/10] END bootstrap=True, criterion=gini, max_features=sqrt, n_estimators=250;, score=0.789 total time=   0.2s\n",
      "[CV 7/10] END bootstrap=True, criterion=gini, max_features=sqrt, n_estimators=250;, score=0.845 total time=   0.2s\n",
      "[CV 8/10] END bootstrap=True, criterion=gini, max_features=sqrt, n_estimators=250;, score=0.887 total time=   0.2s\n",
      "[CV 9/10] END bootstrap=True, criterion=gini, max_features=sqrt, n_estimators=250;, score=0.845 total time=   0.2s\n",
      "[CV 10/10] END bootstrap=True, criterion=gini, max_features=sqrt, n_estimators=250;, score=0.817 total time=   0.2s\n",
      "[CV 1/10] END bootstrap=True, criterion=gini, max_features=sqrt, n_estimators=500;, score=0.764 total time=   0.6s\n",
      "[CV 2/10] END bootstrap=True, criterion=gini, max_features=sqrt, n_estimators=500;, score=0.819 total time=   0.6s\n",
      "[CV 3/10] END bootstrap=True, criterion=gini, max_features=sqrt, n_estimators=500;, score=0.803 total time=   0.6s\n",
      "[CV 4/10] END bootstrap=True, criterion=gini, max_features=sqrt, n_estimators=500;, score=0.873 total time=   0.6s\n",
      "[CV 5/10] END bootstrap=True, criterion=gini, max_features=sqrt, n_estimators=500;, score=0.915 total time=   0.6s\n",
      "[CV 6/10] END bootstrap=True, criterion=gini, max_features=sqrt, n_estimators=500;, score=0.789 total time=   0.6s\n",
      "[CV 7/10] END bootstrap=True, criterion=gini, max_features=sqrt, n_estimators=500;, score=0.845 total time=   0.6s\n",
      "[CV 8/10] END bootstrap=True, criterion=gini, max_features=sqrt, n_estimators=500;, score=0.887 total time=   0.6s\n",
      "[CV 9/10] END bootstrap=True, criterion=gini, max_features=sqrt, n_estimators=500;, score=0.831 total time=   0.6s\n",
      "[CV 10/10] END bootstrap=True, criterion=gini, max_features=sqrt, n_estimators=500;, score=0.803 total time=   0.6s\n",
      "[CV 1/10] END bootstrap=True, criterion=gini, max_features=log2, n_estimators=100;, score=0.736 total time=   0.0s\n",
      "[CV 2/10] END bootstrap=True, criterion=gini, max_features=log2, n_estimators=100;, score=0.861 total time=   0.0s\n",
      "[CV 3/10] END bootstrap=True, criterion=gini, max_features=log2, n_estimators=100;, score=0.803 total time=   0.0s\n",
      "[CV 4/10] END bootstrap=True, criterion=gini, max_features=log2, n_estimators=100;, score=0.845 total time=   0.0s\n",
      "[CV 5/10] END bootstrap=True, criterion=gini, max_features=log2, n_estimators=100;, score=0.930 total time=   0.0s\n",
      "[CV 6/10] END bootstrap=True, criterion=gini, max_features=log2, n_estimators=100;, score=0.775 total time=   0.0s\n",
      "[CV 7/10] END bootstrap=True, criterion=gini, max_features=log2, n_estimators=100;, score=0.859 total time=   0.0s\n",
      "[CV 8/10] END bootstrap=True, criterion=gini, max_features=log2, n_estimators=100;, score=0.901 total time=   0.0s\n",
      "[CV 9/10] END bootstrap=True, criterion=gini, max_features=log2, n_estimators=100;, score=0.831 total time=   0.0s\n",
      "[CV 10/10] END bootstrap=True, criterion=gini, max_features=log2, n_estimators=100;, score=0.789 total time=   0.0s\n",
      "[CV 1/10] END bootstrap=True, criterion=gini, max_features=log2, n_estimators=250;, score=0.736 total time=   0.2s\n"
     ]
    },
    {
     "name": "stdout",
     "output_type": "stream",
     "text": [
      "[CV 2/10] END bootstrap=True, criterion=gini, max_features=log2, n_estimators=250;, score=0.847 total time=   0.2s\n",
      "[CV 3/10] END bootstrap=True, criterion=gini, max_features=log2, n_estimators=250;, score=0.803 total time=   0.2s\n",
      "[CV 4/10] END bootstrap=True, criterion=gini, max_features=log2, n_estimators=250;, score=0.845 total time=   0.2s\n",
      "[CV 5/10] END bootstrap=True, criterion=gini, max_features=log2, n_estimators=250;, score=0.930 total time=   0.2s\n",
      "[CV 6/10] END bootstrap=True, criterion=gini, max_features=log2, n_estimators=250;, score=0.789 total time=   0.2s\n",
      "[CV 7/10] END bootstrap=True, criterion=gini, max_features=log2, n_estimators=250;, score=0.859 total time=   0.2s\n",
      "[CV 8/10] END bootstrap=True, criterion=gini, max_features=log2, n_estimators=250;, score=0.887 total time=   0.2s\n",
      "[CV 9/10] END bootstrap=True, criterion=gini, max_features=log2, n_estimators=250;, score=0.845 total time=   0.2s\n",
      "[CV 10/10] END bootstrap=True, criterion=gini, max_features=log2, n_estimators=250;, score=0.789 total time=   0.2s\n",
      "[CV 1/10] END bootstrap=True, criterion=gini, max_features=log2, n_estimators=500;, score=0.764 total time=   0.6s\n",
      "[CV 2/10] END bootstrap=True, criterion=gini, max_features=log2, n_estimators=500;, score=0.861 total time=   0.6s\n",
      "[CV 3/10] END bootstrap=True, criterion=gini, max_features=log2, n_estimators=500;, score=0.803 total time=   0.6s\n",
      "[CV 4/10] END bootstrap=True, criterion=gini, max_features=log2, n_estimators=500;, score=0.873 total time=   0.6s\n",
      "[CV 5/10] END bootstrap=True, criterion=gini, max_features=log2, n_estimators=500;, score=0.930 total time=   0.6s\n",
      "[CV 6/10] END bootstrap=True, criterion=gini, max_features=log2, n_estimators=500;, score=0.789 total time=   0.6s\n",
      "[CV 7/10] END bootstrap=True, criterion=gini, max_features=log2, n_estimators=500;, score=0.859 total time=   0.6s\n",
      "[CV 8/10] END bootstrap=True, criterion=gini, max_features=log2, n_estimators=500;, score=0.873 total time=   0.6s\n",
      "[CV 9/10] END bootstrap=True, criterion=gini, max_features=log2, n_estimators=500;, score=0.845 total time=   0.6s\n",
      "[CV 10/10] END bootstrap=True, criterion=gini, max_features=log2, n_estimators=500;, score=0.789 total time=   0.6s\n",
      "[CV 1/10] END bootstrap=True, criterion=entropy, max_features=auto, n_estimators=100;, score=0.764 total time=   0.0s\n",
      "[CV 2/10] END bootstrap=True, criterion=entropy, max_features=auto, n_estimators=100;, score=0.861 total time=   0.1s\n",
      "[CV 3/10] END bootstrap=True, criterion=entropy, max_features=auto, n_estimators=100;, score=0.817 total time=   0.1s\n",
      "[CV 4/10] END bootstrap=True, criterion=entropy, max_features=auto, n_estimators=100;, score=0.859 total time=   0.1s\n",
      "[CV 5/10] END bootstrap=True, criterion=entropy, max_features=auto, n_estimators=100;, score=0.901 total time=   0.1s\n",
      "[CV 6/10] END bootstrap=True, criterion=entropy, max_features=auto, n_estimators=100;, score=0.803 total time=   0.1s\n",
      "[CV 7/10] END bootstrap=True, criterion=entropy, max_features=auto, n_estimators=100;, score=0.873 total time=   0.0s\n",
      "[CV 8/10] END bootstrap=True, criterion=entropy, max_features=auto, n_estimators=100;, score=0.901 total time=   0.1s\n",
      "[CV 9/10] END bootstrap=True, criterion=entropy, max_features=auto, n_estimators=100;, score=0.845 total time=   0.1s\n",
      "[CV 10/10] END bootstrap=True, criterion=entropy, max_features=auto, n_estimators=100;, score=0.803 total time=   0.1s\n",
      "[CV 1/10] END bootstrap=True, criterion=entropy, max_features=auto, n_estimators=250;, score=0.764 total time=   0.3s\n",
      "[CV 2/10] END bootstrap=True, criterion=entropy, max_features=auto, n_estimators=250;, score=0.847 total time=   0.3s\n",
      "[CV 3/10] END bootstrap=True, criterion=entropy, max_features=auto, n_estimators=250;, score=0.803 total time=   0.3s\n",
      "[CV 4/10] END bootstrap=True, criterion=entropy, max_features=auto, n_estimators=250;, score=0.859 total time=   0.3s\n",
      "[CV 5/10] END bootstrap=True, criterion=entropy, max_features=auto, n_estimators=250;, score=0.930 total time=   0.3s\n",
      "[CV 6/10] END bootstrap=True, criterion=entropy, max_features=auto, n_estimators=250;, score=0.789 total time=   0.3s\n",
      "[CV 7/10] END bootstrap=True, criterion=entropy, max_features=auto, n_estimators=250;, score=0.845 total time=   0.3s\n",
      "[CV 8/10] END bootstrap=True, criterion=entropy, max_features=auto, n_estimators=250;, score=0.915 total time=   0.3s\n",
      "[CV 9/10] END bootstrap=True, criterion=entropy, max_features=auto, n_estimators=250;, score=0.845 total time=   0.3s\n",
      "[CV 10/10] END bootstrap=True, criterion=entropy, max_features=auto, n_estimators=250;, score=0.803 total time=   0.3s\n",
      "[CV 1/10] END bootstrap=True, criterion=entropy, max_features=auto, n_estimators=500;, score=0.750 total time=   0.6s\n",
      "[CV 2/10] END bootstrap=True, criterion=entropy, max_features=auto, n_estimators=500;, score=0.847 total time=   0.7s\n",
      "[CV 3/10] END bootstrap=True, criterion=entropy, max_features=auto, n_estimators=500;, score=0.803 total time=   0.6s\n",
      "[CV 4/10] END bootstrap=True, criterion=entropy, max_features=auto, n_estimators=500;, score=0.859 total time=   0.6s\n",
      "[CV 5/10] END bootstrap=True, criterion=entropy, max_features=auto, n_estimators=500;, score=0.915 total time=   0.6s\n",
      "[CV 6/10] END bootstrap=True, criterion=entropy, max_features=auto, n_estimators=500;, score=0.789 total time=   0.6s\n",
      "[CV 7/10] END bootstrap=True, criterion=entropy, max_features=auto, n_estimators=500;, score=0.859 total time=   0.6s\n",
      "[CV 8/10] END bootstrap=True, criterion=entropy, max_features=auto, n_estimators=500;, score=0.873 total time=   0.6s\n",
      "[CV 9/10] END bootstrap=True, criterion=entropy, max_features=auto, n_estimators=500;, score=0.831 total time=   0.6s\n",
      "[CV 10/10] END bootstrap=True, criterion=entropy, max_features=auto, n_estimators=500;, score=0.803 total time=   0.6s\n",
      "[CV 1/10] END bootstrap=True, criterion=entropy, max_features=sqrt, n_estimators=100;, score=0.750 total time=   0.0s\n",
      "[CV 2/10] END bootstrap=True, criterion=entropy, max_features=sqrt, n_estimators=100;, score=0.847 total time=   0.0s\n",
      "[CV 3/10] END bootstrap=True, criterion=entropy, max_features=sqrt, n_estimators=100;, score=0.789 total time=   0.1s\n",
      "[CV 4/10] END bootstrap=True, criterion=entropy, max_features=sqrt, n_estimators=100;, score=0.873 total time=   0.1s\n",
      "[CV 5/10] END bootstrap=True, criterion=entropy, max_features=sqrt, n_estimators=100;, score=0.930 total time=   0.1s\n",
      "[CV 6/10] END bootstrap=True, criterion=entropy, max_features=sqrt, n_estimators=100;, score=0.803 total time=   0.1s\n",
      "[CV 7/10] END bootstrap=True, criterion=entropy, max_features=sqrt, n_estimators=100;, score=0.859 total time=   0.1s\n",
      "[CV 8/10] END bootstrap=True, criterion=entropy, max_features=sqrt, n_estimators=100;, score=0.887 total time=   0.1s\n",
      "[CV 9/10] END bootstrap=True, criterion=entropy, max_features=sqrt, n_estimators=100;, score=0.845 total time=   0.1s\n",
      "[CV 10/10] END bootstrap=True, criterion=entropy, max_features=sqrt, n_estimators=100;, score=0.789 total time=   0.1s\n",
      "[CV 1/10] END bootstrap=True, criterion=entropy, max_features=sqrt, n_estimators=250;, score=0.736 total time=   0.3s\n",
      "[CV 2/10] END bootstrap=True, criterion=entropy, max_features=sqrt, n_estimators=250;, score=0.847 total time=   0.3s\n",
      "[CV 3/10] END bootstrap=True, criterion=entropy, max_features=sqrt, n_estimators=250;, score=0.817 total time=   0.3s\n",
      "[CV 4/10] END bootstrap=True, criterion=entropy, max_features=sqrt, n_estimators=250;, score=0.887 total time=   0.3s\n",
      "[CV 5/10] END bootstrap=True, criterion=entropy, max_features=sqrt, n_estimators=250;, score=0.915 total time=   0.3s\n",
      "[CV 6/10] END bootstrap=True, criterion=entropy, max_features=sqrt, n_estimators=250;, score=0.789 total time=   0.3s\n",
      "[CV 7/10] END bootstrap=True, criterion=entropy, max_features=sqrt, n_estimators=250;, score=0.831 total time=   0.3s\n",
      "[CV 8/10] END bootstrap=True, criterion=entropy, max_features=sqrt, n_estimators=250;, score=0.887 total time=   0.3s\n",
      "[CV 9/10] END bootstrap=True, criterion=entropy, max_features=sqrt, n_estimators=250;, score=0.845 total time=   0.3s\n",
      "[CV 10/10] END bootstrap=True, criterion=entropy, max_features=sqrt, n_estimators=250;, score=0.817 total time=   0.3s\n",
      "[CV 1/10] END bootstrap=True, criterion=entropy, max_features=sqrt, n_estimators=500;, score=0.764 total time=   0.6s\n"
     ]
    },
    {
     "name": "stdout",
     "output_type": "stream",
     "text": [
      "[CV 2/10] END bootstrap=True, criterion=entropy, max_features=sqrt, n_estimators=500;, score=0.847 total time=   0.6s\n",
      "[CV 3/10] END bootstrap=True, criterion=entropy, max_features=sqrt, n_estimators=500;, score=0.803 total time=   0.6s\n",
      "[CV 4/10] END bootstrap=True, criterion=entropy, max_features=sqrt, n_estimators=500;, score=0.873 total time=   0.6s\n",
      "[CV 5/10] END bootstrap=True, criterion=entropy, max_features=sqrt, n_estimators=500;, score=0.930 total time=   0.6s\n",
      "[CV 6/10] END bootstrap=True, criterion=entropy, max_features=sqrt, n_estimators=500;, score=0.789 total time=   0.6s\n",
      "[CV 7/10] END bootstrap=True, criterion=entropy, max_features=sqrt, n_estimators=500;, score=0.845 total time=   0.6s\n",
      "[CV 8/10] END bootstrap=True, criterion=entropy, max_features=sqrt, n_estimators=500;, score=0.887 total time=   0.7s\n",
      "[CV 9/10] END bootstrap=True, criterion=entropy, max_features=sqrt, n_estimators=500;, score=0.831 total time=   0.6s\n",
      "[CV 10/10] END bootstrap=True, criterion=entropy, max_features=sqrt, n_estimators=500;, score=0.789 total time=   0.6s\n",
      "[CV 1/10] END bootstrap=True, criterion=entropy, max_features=log2, n_estimators=100;, score=0.750 total time=   0.1s\n",
      "[CV 2/10] END bootstrap=True, criterion=entropy, max_features=log2, n_estimators=100;, score=0.819 total time=   0.1s\n",
      "[CV 3/10] END bootstrap=True, criterion=entropy, max_features=log2, n_estimators=100;, score=0.761 total time=   0.1s\n",
      "[CV 4/10] END bootstrap=True, criterion=entropy, max_features=log2, n_estimators=100;, score=0.873 total time=   0.1s\n",
      "[CV 5/10] END bootstrap=True, criterion=entropy, max_features=log2, n_estimators=100;, score=0.915 total time=   0.1s\n",
      "[CV 6/10] END bootstrap=True, criterion=entropy, max_features=log2, n_estimators=100;, score=0.789 total time=   0.1s\n",
      "[CV 7/10] END bootstrap=True, criterion=entropy, max_features=log2, n_estimators=100;, score=0.859 total time=   0.0s\n",
      "[CV 8/10] END bootstrap=True, criterion=entropy, max_features=log2, n_estimators=100;, score=0.873 total time=   0.1s\n",
      "[CV 9/10] END bootstrap=True, criterion=entropy, max_features=log2, n_estimators=100;, score=0.845 total time=   0.0s\n",
      "[CV 10/10] END bootstrap=True, criterion=entropy, max_features=log2, n_estimators=100;, score=0.803 total time=   0.1s\n",
      "[CV 1/10] END bootstrap=True, criterion=entropy, max_features=log2, n_estimators=250;, score=0.764 total time=   0.3s\n",
      "[CV 2/10] END bootstrap=True, criterion=entropy, max_features=log2, n_estimators=250;, score=0.833 total time=   0.3s\n",
      "[CV 3/10] END bootstrap=True, criterion=entropy, max_features=log2, n_estimators=250;, score=0.803 total time=   0.3s\n",
      "[CV 4/10] END bootstrap=True, criterion=entropy, max_features=log2, n_estimators=250;, score=0.873 total time=   0.3s\n",
      "[CV 5/10] END bootstrap=True, criterion=entropy, max_features=log2, n_estimators=250;, score=0.915 total time=   0.3s\n",
      "[CV 6/10] END bootstrap=True, criterion=entropy, max_features=log2, n_estimators=250;, score=0.775 total time=   0.3s\n",
      "[CV 7/10] END bootstrap=True, criterion=entropy, max_features=log2, n_estimators=250;, score=0.859 total time=   0.3s\n",
      "[CV 8/10] END bootstrap=True, criterion=entropy, max_features=log2, n_estimators=250;, score=0.887 total time=   0.3s\n",
      "[CV 9/10] END bootstrap=True, criterion=entropy, max_features=log2, n_estimators=250;, score=0.845 total time=   0.3s\n",
      "[CV 10/10] END bootstrap=True, criterion=entropy, max_features=log2, n_estimators=250;, score=0.803 total time=   0.3s\n",
      "[CV 1/10] END bootstrap=True, criterion=entropy, max_features=log2, n_estimators=500;, score=0.750 total time=   0.6s\n",
      "[CV 2/10] END bootstrap=True, criterion=entropy, max_features=log2, n_estimators=500;, score=0.833 total time=   0.7s\n",
      "[CV 3/10] END bootstrap=True, criterion=entropy, max_features=log2, n_estimators=500;, score=0.803 total time=   0.6s\n",
      "[CV 4/10] END bootstrap=True, criterion=entropy, max_features=log2, n_estimators=500;, score=0.887 total time=   0.6s\n",
      "[CV 5/10] END bootstrap=True, criterion=entropy, max_features=log2, n_estimators=500;, score=0.915 total time=   0.6s\n",
      "[CV 6/10] END bootstrap=True, criterion=entropy, max_features=log2, n_estimators=500;, score=0.775 total time=   0.6s\n",
      "[CV 7/10] END bootstrap=True, criterion=entropy, max_features=log2, n_estimators=500;, score=0.859 total time=   0.6s\n",
      "[CV 8/10] END bootstrap=True, criterion=entropy, max_features=log2, n_estimators=500;, score=0.915 total time=   0.6s\n",
      "[CV 9/10] END bootstrap=True, criterion=entropy, max_features=log2, n_estimators=500;, score=0.831 total time=   0.6s\n",
      "[CV 10/10] END bootstrap=True, criterion=entropy, max_features=log2, n_estimators=500;, score=0.803 total time=   0.6s\n",
      "[CV 1/10] END bootstrap=False, criterion=gini, max_features=auto, n_estimators=100;, score=0.736 total time=   0.0s\n",
      "[CV 2/10] END bootstrap=False, criterion=gini, max_features=auto, n_estimators=100;, score=0.847 total time=   0.0s\n",
      "[CV 3/10] END bootstrap=False, criterion=gini, max_features=auto, n_estimators=100;, score=0.817 total time=   0.0s\n",
      "[CV 4/10] END bootstrap=False, criterion=gini, max_features=auto, n_estimators=100;, score=0.831 total time=   0.0s\n",
      "[CV 5/10] END bootstrap=False, criterion=gini, max_features=auto, n_estimators=100;, score=0.901 total time=   0.0s\n",
      "[CV 6/10] END bootstrap=False, criterion=gini, max_features=auto, n_estimators=100;, score=0.775 total time=   0.0s\n",
      "[CV 7/10] END bootstrap=False, criterion=gini, max_features=auto, n_estimators=100;, score=0.859 total time=   0.0s\n",
      "[CV 8/10] END bootstrap=False, criterion=gini, max_features=auto, n_estimators=100;, score=0.817 total time=   0.0s\n",
      "[CV 9/10] END bootstrap=False, criterion=gini, max_features=auto, n_estimators=100;, score=0.831 total time=   0.0s\n",
      "[CV 10/10] END bootstrap=False, criterion=gini, max_features=auto, n_estimators=100;, score=0.803 total time=   0.0s\n",
      "[CV 1/10] END bootstrap=False, criterion=gini, max_features=auto, n_estimators=250;, score=0.750 total time=   0.2s\n",
      "[CV 2/10] END bootstrap=False, criterion=gini, max_features=auto, n_estimators=250;, score=0.819 total time=   0.2s\n",
      "[CV 3/10] END bootstrap=False, criterion=gini, max_features=auto, n_estimators=250;, score=0.789 total time=   0.2s\n",
      "[CV 4/10] END bootstrap=False, criterion=gini, max_features=auto, n_estimators=250;, score=0.845 total time=   0.2s\n",
      "[CV 5/10] END bootstrap=False, criterion=gini, max_features=auto, n_estimators=250;, score=0.887 total time=   0.2s\n",
      "[CV 6/10] END bootstrap=False, criterion=gini, max_features=auto, n_estimators=250;, score=0.775 total time=   0.2s\n",
      "[CV 7/10] END bootstrap=False, criterion=gini, max_features=auto, n_estimators=250;, score=0.845 total time=   0.2s\n",
      "[CV 8/10] END bootstrap=False, criterion=gini, max_features=auto, n_estimators=250;, score=0.831 total time=   0.2s\n",
      "[CV 9/10] END bootstrap=False, criterion=gini, max_features=auto, n_estimators=250;, score=0.831 total time=   0.2s\n",
      "[CV 10/10] END bootstrap=False, criterion=gini, max_features=auto, n_estimators=250;, score=0.817 total time=   0.2s\n",
      "[CV 1/10] END bootstrap=False, criterion=gini, max_features=auto, n_estimators=500;, score=0.736 total time=   0.6s\n",
      "[CV 2/10] END bootstrap=False, criterion=gini, max_features=auto, n_estimators=500;, score=0.833 total time=   0.6s\n",
      "[CV 3/10] END bootstrap=False, criterion=gini, max_features=auto, n_estimators=500;, score=0.803 total time=   0.6s\n",
      "[CV 4/10] END bootstrap=False, criterion=gini, max_features=auto, n_estimators=500;, score=0.845 total time=   0.5s\n",
      "[CV 5/10] END bootstrap=False, criterion=gini, max_features=auto, n_estimators=500;, score=0.901 total time=   0.5s\n",
      "[CV 6/10] END bootstrap=False, criterion=gini, max_features=auto, n_estimators=500;, score=0.803 total time=   0.6s\n",
      "[CV 7/10] END bootstrap=False, criterion=gini, max_features=auto, n_estimators=500;, score=0.831 total time=   0.5s\n",
      "[CV 8/10] END bootstrap=False, criterion=gini, max_features=auto, n_estimators=500;, score=0.817 total time=   0.6s\n",
      "[CV 9/10] END bootstrap=False, criterion=gini, max_features=auto, n_estimators=500;, score=0.831 total time=   0.5s\n",
      "[CV 10/10] END bootstrap=False, criterion=gini, max_features=auto, n_estimators=500;, score=0.817 total time=   0.5s\n",
      "[CV 1/10] END bootstrap=False, criterion=gini, max_features=sqrt, n_estimators=100;, score=0.750 total time=   0.0s\n"
     ]
    },
    {
     "name": "stdout",
     "output_type": "stream",
     "text": [
      "[CV 2/10] END bootstrap=False, criterion=gini, max_features=sqrt, n_estimators=100;, score=0.833 total time=   0.0s\n",
      "[CV 3/10] END bootstrap=False, criterion=gini, max_features=sqrt, n_estimators=100;, score=0.789 total time=   0.0s\n",
      "[CV 4/10] END bootstrap=False, criterion=gini, max_features=sqrt, n_estimators=100;, score=0.817 total time=   0.0s\n",
      "[CV 5/10] END bootstrap=False, criterion=gini, max_features=sqrt, n_estimators=100;, score=0.901 total time=   0.0s\n",
      "[CV 6/10] END bootstrap=False, criterion=gini, max_features=sqrt, n_estimators=100;, score=0.789 total time=   0.0s\n",
      "[CV 7/10] END bootstrap=False, criterion=gini, max_features=sqrt, n_estimators=100;, score=0.845 total time=   0.0s\n",
      "[CV 8/10] END bootstrap=False, criterion=gini, max_features=sqrt, n_estimators=100;, score=0.845 total time=   0.0s\n",
      "[CV 9/10] END bootstrap=False, criterion=gini, max_features=sqrt, n_estimators=100;, score=0.831 total time=   0.0s\n",
      "[CV 10/10] END bootstrap=False, criterion=gini, max_features=sqrt, n_estimators=100;, score=0.803 total time=   0.0s\n",
      "[CV 1/10] END bootstrap=False, criterion=gini, max_features=sqrt, n_estimators=250;, score=0.736 total time=   0.2s\n",
      "[CV 2/10] END bootstrap=False, criterion=gini, max_features=sqrt, n_estimators=250;, score=0.819 total time=   0.2s\n",
      "[CV 3/10] END bootstrap=False, criterion=gini, max_features=sqrt, n_estimators=250;, score=0.817 total time=   0.2s\n",
      "[CV 4/10] END bootstrap=False, criterion=gini, max_features=sqrt, n_estimators=250;, score=0.831 total time=   0.2s\n",
      "[CV 5/10] END bootstrap=False, criterion=gini, max_features=sqrt, n_estimators=250;, score=0.915 total time=   0.2s\n",
      "[CV 6/10] END bootstrap=False, criterion=gini, max_features=sqrt, n_estimators=250;, score=0.803 total time=   0.2s\n",
      "[CV 7/10] END bootstrap=False, criterion=gini, max_features=sqrt, n_estimators=250;, score=0.831 total time=   0.2s\n",
      "[CV 8/10] END bootstrap=False, criterion=gini, max_features=sqrt, n_estimators=250;, score=0.817 total time=   0.2s\n",
      "[CV 9/10] END bootstrap=False, criterion=gini, max_features=sqrt, n_estimators=250;, score=0.831 total time=   0.2s\n",
      "[CV 10/10] END bootstrap=False, criterion=gini, max_features=sqrt, n_estimators=250;, score=0.803 total time=   0.2s\n",
      "[CV 1/10] END bootstrap=False, criterion=gini, max_features=sqrt, n_estimators=500;, score=0.736 total time=   0.5s\n",
      "[CV 2/10] END bootstrap=False, criterion=gini, max_features=sqrt, n_estimators=500;, score=0.833 total time=   0.6s\n",
      "[CV 3/10] END bootstrap=False, criterion=gini, max_features=sqrt, n_estimators=500;, score=0.789 total time=   0.6s\n",
      "[CV 4/10] END bootstrap=False, criterion=gini, max_features=sqrt, n_estimators=500;, score=0.845 total time=   0.6s\n",
      "[CV 5/10] END bootstrap=False, criterion=gini, max_features=sqrt, n_estimators=500;, score=0.901 total time=   0.5s\n",
      "[CV 6/10] END bootstrap=False, criterion=gini, max_features=sqrt, n_estimators=500;, score=0.803 total time=   0.6s\n",
      "[CV 7/10] END bootstrap=False, criterion=gini, max_features=sqrt, n_estimators=500;, score=0.831 total time=   0.5s\n",
      "[CV 8/10] END bootstrap=False, criterion=gini, max_features=sqrt, n_estimators=500;, score=0.831 total time=   0.6s\n",
      "[CV 9/10] END bootstrap=False, criterion=gini, max_features=sqrt, n_estimators=500;, score=0.831 total time=   0.5s\n",
      "[CV 10/10] END bootstrap=False, criterion=gini, max_features=sqrt, n_estimators=500;, score=0.817 total time=   0.5s\n",
      "[CV 1/10] END bootstrap=False, criterion=gini, max_features=log2, n_estimators=100;, score=0.736 total time=   0.0s\n",
      "[CV 2/10] END bootstrap=False, criterion=gini, max_features=log2, n_estimators=100;, score=0.819 total time=   0.0s\n",
      "[CV 3/10] END bootstrap=False, criterion=gini, max_features=log2, n_estimators=100;, score=0.803 total time=   0.0s\n",
      "[CV 4/10] END bootstrap=False, criterion=gini, max_features=log2, n_estimators=100;, score=0.845 total time=   0.0s\n",
      "[CV 5/10] END bootstrap=False, criterion=gini, max_features=log2, n_estimators=100;, score=0.887 total time=   0.0s\n",
      "[CV 6/10] END bootstrap=False, criterion=gini, max_features=log2, n_estimators=100;, score=0.775 total time=   0.0s\n",
      "[CV 7/10] END bootstrap=False, criterion=gini, max_features=log2, n_estimators=100;, score=0.845 total time=   0.0s\n",
      "[CV 8/10] END bootstrap=False, criterion=gini, max_features=log2, n_estimators=100;, score=0.831 total time=   0.0s\n",
      "[CV 9/10] END bootstrap=False, criterion=gini, max_features=log2, n_estimators=100;, score=0.831 total time=   0.0s\n",
      "[CV 10/10] END bootstrap=False, criterion=gini, max_features=log2, n_estimators=100;, score=0.831 total time=   0.0s\n",
      "[CV 1/10] END bootstrap=False, criterion=gini, max_features=log2, n_estimators=250;, score=0.736 total time=   0.2s\n",
      "[CV 2/10] END bootstrap=False, criterion=gini, max_features=log2, n_estimators=250;, score=0.833 total time=   0.2s\n",
      "[CV 3/10] END bootstrap=False, criterion=gini, max_features=log2, n_estimators=250;, score=0.775 total time=   0.2s\n",
      "[CV 4/10] END bootstrap=False, criterion=gini, max_features=log2, n_estimators=250;, score=0.845 total time=   0.2s\n",
      "[CV 5/10] END bootstrap=False, criterion=gini, max_features=log2, n_estimators=250;, score=0.887 total time=   0.2s\n",
      "[CV 6/10] END bootstrap=False, criterion=gini, max_features=log2, n_estimators=250;, score=0.817 total time=   0.2s\n",
      "[CV 7/10] END bootstrap=False, criterion=gini, max_features=log2, n_estimators=250;, score=0.845 total time=   0.2s\n",
      "[CV 8/10] END bootstrap=False, criterion=gini, max_features=log2, n_estimators=250;, score=0.817 total time=   0.2s\n",
      "[CV 9/10] END bootstrap=False, criterion=gini, max_features=log2, n_estimators=250;, score=0.831 total time=   0.2s\n",
      "[CV 10/10] END bootstrap=False, criterion=gini, max_features=log2, n_estimators=250;, score=0.831 total time=   0.2s\n",
      "[CV 1/10] END bootstrap=False, criterion=gini, max_features=log2, n_estimators=500;, score=0.750 total time=   0.5s\n",
      "[CV 2/10] END bootstrap=False, criterion=gini, max_features=log2, n_estimators=500;, score=0.833 total time=   0.5s\n",
      "[CV 3/10] END bootstrap=False, criterion=gini, max_features=log2, n_estimators=500;, score=0.803 total time=   0.5s\n",
      "[CV 4/10] END bootstrap=False, criterion=gini, max_features=log2, n_estimators=500;, score=0.845 total time=   0.6s\n",
      "[CV 5/10] END bootstrap=False, criterion=gini, max_features=log2, n_estimators=500;, score=0.901 total time=   0.5s\n",
      "[CV 6/10] END bootstrap=False, criterion=gini, max_features=log2, n_estimators=500;, score=0.789 total time=   0.5s\n",
      "[CV 7/10] END bootstrap=False, criterion=gini, max_features=log2, n_estimators=500;, score=0.845 total time=   0.5s\n",
      "[CV 8/10] END bootstrap=False, criterion=gini, max_features=log2, n_estimators=500;, score=0.817 total time=   0.6s\n",
      "[CV 9/10] END bootstrap=False, criterion=gini, max_features=log2, n_estimators=500;, score=0.831 total time=   0.5s\n",
      "[CV 10/10] END bootstrap=False, criterion=gini, max_features=log2, n_estimators=500;, score=0.817 total time=   0.5s\n",
      "[CV 1/10] END bootstrap=False, criterion=entropy, max_features=auto, n_estimators=100;, score=0.736 total time=   0.1s\n",
      "[CV 2/10] END bootstrap=False, criterion=entropy, max_features=auto, n_estimators=100;, score=0.833 total time=   0.1s\n",
      "[CV 3/10] END bootstrap=False, criterion=entropy, max_features=auto, n_estimators=100;, score=0.803 total time=   0.1s\n",
      "[CV 4/10] END bootstrap=False, criterion=entropy, max_features=auto, n_estimators=100;, score=0.831 total time=   0.1s\n",
      "[CV 5/10] END bootstrap=False, criterion=entropy, max_features=auto, n_estimators=100;, score=0.873 total time=   0.1s\n",
      "[CV 6/10] END bootstrap=False, criterion=entropy, max_features=auto, n_estimators=100;, score=0.803 total time=   0.1s\n",
      "[CV 7/10] END bootstrap=False, criterion=entropy, max_features=auto, n_estimators=100;, score=0.845 total time=   0.0s\n",
      "[CV 8/10] END bootstrap=False, criterion=entropy, max_features=auto, n_estimators=100;, score=0.831 total time=   0.1s\n",
      "[CV 9/10] END bootstrap=False, criterion=entropy, max_features=auto, n_estimators=100;, score=0.831 total time=   0.1s\n",
      "[CV 10/10] END bootstrap=False, criterion=entropy, max_features=auto, n_estimators=100;, score=0.803 total time=   0.1s\n",
      "[CV 1/10] END bootstrap=False, criterion=entropy, max_features=auto, n_estimators=250;, score=0.736 total time=   0.3s\n",
      "[CV 2/10] END bootstrap=False, criterion=entropy, max_features=auto, n_estimators=250;, score=0.833 total time=   0.3s\n"
     ]
    },
    {
     "name": "stdout",
     "output_type": "stream",
     "text": [
      "[CV 3/10] END bootstrap=False, criterion=entropy, max_features=auto, n_estimators=250;, score=0.789 total time=   0.3s\n",
      "[CV 4/10] END bootstrap=False, criterion=entropy, max_features=auto, n_estimators=250;, score=0.831 total time=   0.3s\n",
      "[CV 5/10] END bootstrap=False, criterion=entropy, max_features=auto, n_estimators=250;, score=0.873 total time=   0.3s\n",
      "[CV 6/10] END bootstrap=False, criterion=entropy, max_features=auto, n_estimators=250;, score=0.817 total time=   0.3s\n",
      "[CV 7/10] END bootstrap=False, criterion=entropy, max_features=auto, n_estimators=250;, score=0.845 total time=   0.3s\n",
      "[CV 8/10] END bootstrap=False, criterion=entropy, max_features=auto, n_estimators=250;, score=0.831 total time=   0.3s\n",
      "[CV 9/10] END bootstrap=False, criterion=entropy, max_features=auto, n_estimators=250;, score=0.831 total time=   0.3s\n",
      "[CV 10/10] END bootstrap=False, criterion=entropy, max_features=auto, n_estimators=250;, score=0.817 total time=   0.3s\n",
      "[CV 1/10] END bootstrap=False, criterion=entropy, max_features=auto, n_estimators=500;, score=0.736 total time=   0.6s\n",
      "[CV 2/10] END bootstrap=False, criterion=entropy, max_features=auto, n_estimators=500;, score=0.847 total time=   0.6s\n",
      "[CV 3/10] END bootstrap=False, criterion=entropy, max_features=auto, n_estimators=500;, score=0.789 total time=   0.7s\n",
      "[CV 4/10] END bootstrap=False, criterion=entropy, max_features=auto, n_estimators=500;, score=0.831 total time=   0.6s\n",
      "[CV 5/10] END bootstrap=False, criterion=entropy, max_features=auto, n_estimators=500;, score=0.887 total time=   0.6s\n",
      "[CV 6/10] END bootstrap=False, criterion=entropy, max_features=auto, n_estimators=500;, score=0.817 total time=   0.6s\n",
      "[CV 7/10] END bootstrap=False, criterion=entropy, max_features=auto, n_estimators=500;, score=0.845 total time=   0.6s\n",
      "[CV 8/10] END bootstrap=False, criterion=entropy, max_features=auto, n_estimators=500;, score=0.831 total time=   0.6s\n",
      "[CV 9/10] END bootstrap=False, criterion=entropy, max_features=auto, n_estimators=500;, score=0.831 total time=   0.6s\n",
      "[CV 10/10] END bootstrap=False, criterion=entropy, max_features=auto, n_estimators=500;, score=0.817 total time=   0.6s\n",
      "[CV 1/10] END bootstrap=False, criterion=entropy, max_features=sqrt, n_estimators=100;, score=0.736 total time=   0.0s\n",
      "[CV 2/10] END bootstrap=False, criterion=entropy, max_features=sqrt, n_estimators=100;, score=0.833 total time=   0.1s\n",
      "[CV 3/10] END bootstrap=False, criterion=entropy, max_features=sqrt, n_estimators=100;, score=0.789 total time=   0.1s\n",
      "[CV 4/10] END bootstrap=False, criterion=entropy, max_features=sqrt, n_estimators=100;, score=0.831 total time=   0.1s\n",
      "[CV 5/10] END bootstrap=False, criterion=entropy, max_features=sqrt, n_estimators=100;, score=0.901 total time=   0.1s\n",
      "[CV 6/10] END bootstrap=False, criterion=entropy, max_features=sqrt, n_estimators=100;, score=0.817 total time=   0.1s\n",
      "[CV 7/10] END bootstrap=False, criterion=entropy, max_features=sqrt, n_estimators=100;, score=0.845 total time=   0.1s\n",
      "[CV 8/10] END bootstrap=False, criterion=entropy, max_features=sqrt, n_estimators=100;, score=0.817 total time=   0.1s\n",
      "[CV 9/10] END bootstrap=False, criterion=entropy, max_features=sqrt, n_estimators=100;, score=0.831 total time=   0.1s\n",
      "[CV 10/10] END bootstrap=False, criterion=entropy, max_features=sqrt, n_estimators=100;, score=0.831 total time=   0.1s\n",
      "[CV 1/10] END bootstrap=False, criterion=entropy, max_features=sqrt, n_estimators=250;, score=0.736 total time=   0.3s\n",
      "[CV 2/10] END bootstrap=False, criterion=entropy, max_features=sqrt, n_estimators=250;, score=0.833 total time=   0.3s\n",
      "[CV 3/10] END bootstrap=False, criterion=entropy, max_features=sqrt, n_estimators=250;, score=0.775 total time=   0.3s\n",
      "[CV 4/10] END bootstrap=False, criterion=entropy, max_features=sqrt, n_estimators=250;, score=0.831 total time=   0.3s\n",
      "[CV 5/10] END bootstrap=False, criterion=entropy, max_features=sqrt, n_estimators=250;, score=0.887 total time=   0.3s\n",
      "[CV 6/10] END bootstrap=False, criterion=entropy, max_features=sqrt, n_estimators=250;, score=0.817 total time=   0.3s\n",
      "[CV 7/10] END bootstrap=False, criterion=entropy, max_features=sqrt, n_estimators=250;, score=0.859 total time=   0.3s\n",
      "[CV 8/10] END bootstrap=False, criterion=entropy, max_features=sqrt, n_estimators=250;, score=0.831 total time=   0.3s\n",
      "[CV 9/10] END bootstrap=False, criterion=entropy, max_features=sqrt, n_estimators=250;, score=0.831 total time=   0.3s\n",
      "[CV 10/10] END bootstrap=False, criterion=entropy, max_features=sqrt, n_estimators=250;, score=0.817 total time=   0.3s\n",
      "[CV 1/10] END bootstrap=False, criterion=entropy, max_features=sqrt, n_estimators=500;, score=0.750 total time=   0.6s\n",
      "[CV 2/10] END bootstrap=False, criterion=entropy, max_features=sqrt, n_estimators=500;, score=0.833 total time=   0.6s\n",
      "[CV 3/10] END bootstrap=False, criterion=entropy, max_features=sqrt, n_estimators=500;, score=0.789 total time=   0.7s\n",
      "[CV 4/10] END bootstrap=False, criterion=entropy, max_features=sqrt, n_estimators=500;, score=0.831 total time=   0.6s\n",
      "[CV 5/10] END bootstrap=False, criterion=entropy, max_features=sqrt, n_estimators=500;, score=0.887 total time=   0.7s\n",
      "[CV 6/10] END bootstrap=False, criterion=entropy, max_features=sqrt, n_estimators=500;, score=0.817 total time=   0.7s\n",
      "[CV 7/10] END bootstrap=False, criterion=entropy, max_features=sqrt, n_estimators=500;, score=0.845 total time=   0.6s\n",
      "[CV 8/10] END bootstrap=False, criterion=entropy, max_features=sqrt, n_estimators=500;, score=0.845 total time=   0.6s\n",
      "[CV 9/10] END bootstrap=False, criterion=entropy, max_features=sqrt, n_estimators=500;, score=0.831 total time=   0.6s\n",
      "[CV 10/10] END bootstrap=False, criterion=entropy, max_features=sqrt, n_estimators=500;, score=0.803 total time=   0.6s\n",
      "[CV 1/10] END bootstrap=False, criterion=entropy, max_features=log2, n_estimators=100;, score=0.750 total time=   0.0s\n",
      "[CV 2/10] END bootstrap=False, criterion=entropy, max_features=log2, n_estimators=100;, score=0.833 total time=   0.1s\n",
      "[CV 3/10] END bootstrap=False, criterion=entropy, max_features=log2, n_estimators=100;, score=0.803 total time=   0.1s\n",
      "[CV 4/10] END bootstrap=False, criterion=entropy, max_features=log2, n_estimators=100;, score=0.831 total time=   0.1s\n",
      "[CV 5/10] END bootstrap=False, criterion=entropy, max_features=log2, n_estimators=100;, score=0.901 total time=   0.1s\n",
      "[CV 6/10] END bootstrap=False, criterion=entropy, max_features=log2, n_estimators=100;, score=0.817 total time=   0.1s\n",
      "[CV 7/10] END bootstrap=False, criterion=entropy, max_features=log2, n_estimators=100;, score=0.845 total time=   0.0s\n",
      "[CV 8/10] END bootstrap=False, criterion=entropy, max_features=log2, n_estimators=100;, score=0.845 total time=   0.1s\n",
      "[CV 9/10] END bootstrap=False, criterion=entropy, max_features=log2, n_estimators=100;, score=0.817 total time=   0.1s\n",
      "[CV 10/10] END bootstrap=False, criterion=entropy, max_features=log2, n_estimators=100;, score=0.831 total time=   0.1s\n",
      "[CV 1/10] END bootstrap=False, criterion=entropy, max_features=log2, n_estimators=250;, score=0.736 total time=   0.3s\n",
      "[CV 2/10] END bootstrap=False, criterion=entropy, max_features=log2, n_estimators=250;, score=0.833 total time=   0.3s\n",
      "[CV 3/10] END bootstrap=False, criterion=entropy, max_features=log2, n_estimators=250;, score=0.775 total time=   0.3s\n",
      "[CV 4/10] END bootstrap=False, criterion=entropy, max_features=log2, n_estimators=250;, score=0.831 total time=   0.3s\n",
      "[CV 5/10] END bootstrap=False, criterion=entropy, max_features=log2, n_estimators=250;, score=0.887 total time=   0.3s\n",
      "[CV 6/10] END bootstrap=False, criterion=entropy, max_features=log2, n_estimators=250;, score=0.817 total time=   0.3s\n",
      "[CV 7/10] END bootstrap=False, criterion=entropy, max_features=log2, n_estimators=250;, score=0.859 total time=   0.3s\n",
      "[CV 8/10] END bootstrap=False, criterion=entropy, max_features=log2, n_estimators=250;, score=0.817 total time=   0.3s\n",
      "[CV 9/10] END bootstrap=False, criterion=entropy, max_features=log2, n_estimators=250;, score=0.831 total time=   0.3s\n",
      "[CV 10/10] END bootstrap=False, criterion=entropy, max_features=log2, n_estimators=250;, score=0.817 total time=   0.3s\n",
      "[CV 1/10] END bootstrap=False, criterion=entropy, max_features=log2, n_estimators=500;, score=0.736 total time=   0.6s\n"
     ]
    },
    {
     "name": "stdout",
     "output_type": "stream",
     "text": [
      "[CV 2/10] END bootstrap=False, criterion=entropy, max_features=log2, n_estimators=500;, score=0.847 total time=   0.7s\n",
      "[CV 3/10] END bootstrap=False, criterion=entropy, max_features=log2, n_estimators=500;, score=0.789 total time=   0.7s\n",
      "[CV 4/10] END bootstrap=False, criterion=entropy, max_features=log2, n_estimators=500;, score=0.831 total time=   0.6s\n",
      "[CV 5/10] END bootstrap=False, criterion=entropy, max_features=log2, n_estimators=500;, score=0.901 total time=   0.6s\n",
      "[CV 6/10] END bootstrap=False, criterion=entropy, max_features=log2, n_estimators=500;, score=0.817 total time=   0.7s\n",
      "[CV 7/10] END bootstrap=False, criterion=entropy, max_features=log2, n_estimators=500;, score=0.845 total time=   0.6s\n",
      "[CV 8/10] END bootstrap=False, criterion=entropy, max_features=log2, n_estimators=500;, score=0.845 total time=   0.7s\n",
      "[CV 9/10] END bootstrap=False, criterion=entropy, max_features=log2, n_estimators=500;, score=0.831 total time=   0.6s\n",
      "[CV 10/10] END bootstrap=False, criterion=entropy, max_features=log2, n_estimators=500;, score=0.817 total time=   0.7s\n",
      "{'bootstrap': True, 'criterion': 'entropy', 'max_features': 'auto', 'n_estimators': 100}\n"
     ]
    }
   ],
   "source": [
    "# Create default model\n",
    "param_search_model = RandomForestClassifier()\n",
    "\n",
    "#Create parameter grid\n",
    "param_grid = {'n_estimators': [100,250,500],\n",
    "              'criterion': ['gini', 'entropy'],\n",
    "              'max_features': ['auto','sqrt','log2'],\n",
    "              'bootstrap': [True, False]}\n",
    "\n",
    "CV_param_search_model = GridSearchCV(estimator=param_search_model, param_grid=param_grid, scoring = 'accuracy', cv= 10, verbose=5)\n",
    "CV_param_search_model.fit(X_train2, y_train2)\n",
    "\n",
    "#Print best parameters results\n",
    "print(CV_param_search_model.best_params_)"
   ]
  },
  {
   "cell_type": "markdown",
   "id": "35b80ef1",
   "metadata": {},
   "source": [
    "Create  final model with grid search parameter output."
   ]
  },
  {
   "cell_type": "code",
   "execution_count": 20,
   "id": "a3facbe9",
   "metadata": {},
   "outputs": [
    {
     "name": "stdout",
     "output_type": "stream",
     "text": [
      "Validation Accuracy:  84.4 %\n"
     ]
    }
   ],
   "source": [
    "################################################################################################################\n",
    "final_model = RandomForestClassifier(bootstrap = True, criterion = 'entropy', max_features = 'sqrt', n_estimators = 100)\n",
    "\n",
    "final_model.fit(X_train2, y_train2)\n",
    "\n",
    "#Create model predictions\n",
    "predictions2 = final_model.predict(X_test2)\n",
    "\n",
    "#Calculate mean absolute percentage error\n",
    "accu = accuracy_score(predictions2, y_test2)\n",
    "\n",
    "print(\"Validation Accuracy: \",round(accu*100,1),\"%\")"
   ]
  },
  {
   "cell_type": "markdown",
   "id": "1b3aba93",
   "metadata": {},
   "source": [
    "Achieved accuracy of 84.4%. Next step is to recreate the preprocessing steps on the test data set and create predictions using the trained model."
   ]
  },
  {
   "cell_type": "code",
   "execution_count": 21,
   "id": "f380823b",
   "metadata": {},
   "outputs": [],
   "source": [
    "# Import training dataset\n",
    "df_test = pd.read_csv('test.csv')"
   ]
  },
  {
   "cell_type": "code",
   "execution_count": 22,
   "id": "8a4cdabb",
   "metadata": {},
   "outputs": [],
   "source": [
    "#Transform Cabin Variable\n",
    "## Create binary variable\n",
    "Cabin_Binary = pd.notnull(df_test['Cabin'])\n",
    "df_test['Cabin_Binary'] = Cabin_Binary\n",
    "\n",
    "## Create Cabin and cabin letter grade\n",
    "Cabin_Cnt = []\n",
    "Cabin_Grd = []\n",
    "\n",
    "for i in df_test.Cabin:\n",
    "    if pd.isnull(i):\n",
    "        Cabin_Cnt.append(0)\n",
    "    else:\n",
    "        Cabin_Cnt.append(i.count(' ')+1)\n",
    "\n",
    "    if pd.isnull(i):\n",
    "        Cabin_Grd.append(0)\n",
    "    else:\n",
    "        cnt = 0\n",
    "        grd = 0\n",
    "        for j in ['A','B','C','D','E','F','G','T']:\n",
    "            cnt += 1\n",
    "            if i.count(j)>0 and grd == 0:\n",
    "                grd = cnt\n",
    "\n",
    "        Cabin_Grd.append(grd)\n",
    "\n",
    "df_test['Cabin_Cnt'] = Cabin_Cnt\n",
    "df_test['Cabin_Grd'] = Cabin_Grd\n",
    "\n",
    "#drop cabin\n",
    "df_test.drop(['Cabin'], axis = 1, inplace=True)"
   ]
  },
  {
   "cell_type": "code",
   "execution_count": 23,
   "id": "49ac6028",
   "metadata": {},
   "outputs": [],
   "source": [
    "# Impute embarked NAs with most common port\n",
    "df_test.Embarked.fillna(value = 'S', inplace = True)\n",
    "\n",
    "#Create dummy variables\n",
    "df_test = pd.concat([df_test, pd.get_dummies(df_test['Embarked'])], axis=1)\n",
    "df_test.drop(['Embarked'],axis = 1, inplace = True)"
   ]
  },
  {
   "cell_type": "code",
   "execution_count": 24,
   "id": "3231e046",
   "metadata": {},
   "outputs": [],
   "source": [
    "# Create dummy variables for sex\n",
    "df_test = pd.concat([df_test, pd.get_dummies(df_test['Sex'])], axis=1)\n",
    "df_test.drop(['Sex'],axis = 1, inplace = True)"
   ]
  },
  {
   "cell_type": "code",
   "execution_count": 25,
   "id": "2104555d",
   "metadata": {},
   "outputs": [],
   "source": [
    "# Ticket number\n",
    "Ticket_lst = []\n",
    "\n",
    "for i in df_test.Ticket:\n",
    "    lst = i.split()\n",
    "    Ticket_lst.append(lst[-1:][0])\n",
    "\n",
    "df_test['Ticket'] = Ticket_lst\n",
    "\n",
    "#Convert NA to pre-calculated average\n",
    "df_test['Ticket'] = df_test['Ticket'].apply(lambda x: Avg_Ticket if x.isnumeric()==False else x)"
   ]
  },
  {
   "cell_type": "code",
   "execution_count": 26,
   "id": "ec6698ea",
   "metadata": {},
   "outputs": [],
   "source": [
    "# Name length\n",
    "Name_Length = [len(i) for i in df_test.Name]\n",
    "df_test['Name_Length'] = Name_Length"
   ]
  },
  {
   "cell_type": "code",
   "execution_count": 27,
   "id": "51c16290",
   "metadata": {},
   "outputs": [],
   "source": [
    "# Name has alias\n",
    "Name_Alias = []\n",
    "\n",
    "for i in df_test.Name:\n",
    "    if i.count('('):\n",
    "        Name_Alias.append(True)\n",
    "    else:\n",
    "        Name_Alias.append(False)\n",
    "\n",
    "df_test['Name_Alias'] = Name_Alias\n",
    "\n",
    "#Titles\n",
    "title_lst = ['Mr.','Miss.','Ms.','Mrs.','Lady.','Capt.','Sir.','Col.','Master.','Mme.','Mlle.','Major.','Dr.','Countess.','Rev.','Don.','Jonkheer.']\n",
    "Titles = []\n",
    "\n",
    "#Create title column\n",
    "for i in range(len(df_test)):\n",
    "    Name = df_test.Name.iloc[i]\n",
    "    Title = \"None\"\n",
    "    for j in title_lst:\n",
    "        if Name.count(j) > 0:\n",
    "            Title = j\n",
    "\n",
    "    Titles.append(Title)\n",
    "\n",
    "df_test['Title'] = Titles\n",
    "\n",
    "#View distribution\n",
    "df_test.groupby(by = ['Title']).size()\n",
    "\n",
    "#Standardize\n",
    "dict1 = {'Ms.': 'Miss',\n",
    "        'Mlle.': 'Miss',\n",
    "        'Mme.': 'Mrs.',\n",
    "        'Mlle.': 'Miss',\n",
    "        'Lady.': 'Mrs.',\n",
    "        'Countess.': 'Mrs.',\n",
    "        'Sir.': 'Mr.',\n",
    "        'Jonkheer.': 'Mr.',\n",
    "        'Don.': 'Special',\n",
    "        'Dr.': 'Special',\n",
    "        'Master.': 'Special',\n",
    "        'Rev.': 'Special',\n",
    "        'Col.': 'Military',\n",
    "        'Major.': 'Military',\n",
    "        'Capt.': 'Military',\n",
    "        'Miss.': 'Miss.',\n",
    "        'Mr.':'Mr.',\n",
    "        'Mrs.':'Mrs.'}\n",
    "\n",
    "df_test['Title_Std'] = df_test['Title'].map(dict1)\n",
    "\n",
    "#Drop Name and Title\n",
    "df_test.drop(['Name','Title'],axis = 1, inplace = True)\n",
    "\n",
    "#Create dummy columns\n",
    "df_test = pd.concat([df_test, pd.get_dummies(df_test['Title_Std'])], axis=1)\n",
    "df_test.drop(['Title_Std'],axis = 1, inplace = True)"
   ]
  },
  {
   "cell_type": "code",
   "execution_count": 28,
   "id": "5335a8ad",
   "metadata": {},
   "outputs": [
    {
     "name": "stdout",
     "output_type": "stream",
     "text": [
      "        Variable   NA_Rate\n",
      "2            Age  0.096521\n",
      "6           Fare  0.001122\n",
      "0    PassengerId  0.000000\n",
      "13        female  0.000000\n",
      "21          Mrs.  0.000000\n",
      "20           Mr.  0.000000\n",
      "19         Miss.  0.000000\n",
      "18          Miss  0.000000\n",
      "17      Military  0.000000\n",
      "16    Name_Alias  0.000000\n",
      "15   Name_Length  0.000000\n",
      "14          male  0.000000\n",
      "11             Q  0.000000\n",
      "12             S  0.000000\n",
      "1         Pclass  0.000000\n",
      "10             C  0.000000\n",
      "9      Cabin_Grd  0.000000\n",
      "8      Cabin_Cnt  0.000000\n",
      "7   Cabin_Binary  0.000000\n",
      "5         Ticket  0.000000\n",
      "4          Parch  0.000000\n",
      "3          SibSp  0.000000\n",
      "22       Special  0.000000\n"
     ]
    }
   ],
   "source": [
    "# Check for missing data\n",
    "NA_df = pd.DataFrame(columns = ['Variable', 'NA_Rate'])\n",
    "\n",
    "for i in df_test.columns:\n",
    "    NA_cnt = df_test[i].isna().sum()\n",
    "    NA_df.loc[len(NA_df)] = [i, NA_cnt/len(df)]\n",
    "\n",
    "print(NA_df.sort_values(by = 'NA_Rate', ascending = False))"
   ]
  },
  {
   "cell_type": "code",
   "execution_count": 29,
   "id": "1cc1ed9e",
   "metadata": {},
   "outputs": [],
   "source": [
    "# Impute fair with average value\n",
    "Avg_Fare = round(pd.to_numeric(df_test['Fare'][df_test.Ticket.apply(lambda x: x.isnumeric()==True)]).mean(),0)\n",
    "df_test['Fare'] = df_test['Fare'].apply(lambda x: Avg_Fare if pd.isna(x)==True else x)"
   ]
  },
  {
   "cell_type": "code",
   "execution_count": 30,
   "id": "6a702588",
   "metadata": {},
   "outputs": [],
   "source": [
    "# Create age predictions\n",
    "Age_Prediction2 = age_model.predict(df_test[Results1.Variable[:9].to_list()])\n",
    "\n",
    "df_test['Age_Pred'] = Age_Prediction2\n",
    "\n",
    "Age_Cln = []\n",
    "for i in range(len(df_test)):\n",
    "    x = df_test['Age'].iloc[i]\n",
    "    if pd.isnull(x):\n",
    "        Age_Cln.append(df_test['Age_Pred'].iloc[i])\n",
    "    else:\n",
    "        Age_Cln.append(x)\n",
    "\n",
    "df_test['Age_Cln'] = Age_Cln\n",
    "\n",
    "df_test = df_test.drop(['Age','Age_Pred'], axis = 1)"
   ]
  },
  {
   "cell_type": "code",
   "execution_count": 31,
   "id": "b9ab2a79",
   "metadata": {},
   "outputs": [],
   "source": [
    "# Create reduced prediction df\n",
    "Reduced_var_list.remove('Survived')\n",
    "df_reduced_test = df_test[Reduced_var_list]"
   ]
  },
  {
   "cell_type": "code",
   "execution_count": 32,
   "id": "4c4bbca8",
   "metadata": {},
   "outputs": [],
   "source": [
    "# Create survival predictions\n",
    "predictions_final = final_model.predict(df_reduced_test)"
   ]
  },
  {
   "cell_type": "code",
   "execution_count": 33,
   "id": "88ddd190",
   "metadata": {},
   "outputs": [],
   "source": [
    "# Format into submission and export\n",
    "df_test['Survived'] = predictions_final\n",
    "Submission_DF = df_test[['PassengerId', 'Survived']]\n",
    "\n",
    "Submission_DF.to_csv(\"Titanic_Submission2.csv\", index=False)"
   ]
  },
  {
   "attachments": {
    "Capture.PNG": {
     "image/png": "[encoded data removed]"
    }
   },
   "cell_type": "markdown",
   "id": "03984a45",
   "metadata": {},
   "source": [
    "![Capture.PNG](attachment:Capture.PNG)"
   ]
  },
  {
   "cell_type": "markdown",
   "id": "cc239d1a",
   "metadata": {},
   "source": [
    "Accuracy of 77.27% achieved"
   ]
  }
 ],
 "metadata": {
  "kernelspec": {
   "display_name": "Python [conda env:Titanic]",
   "language": "python",
   "name": "conda-env-Titanic-py"
  },
  "language_info": {
   "codemirror_mode": {
    "name": "ipython",
    "version": 3
   },
   "file_extension": ".py",
   "mimetype": "text/x-python",
   "name": "python",
   "nbconvert_exporter": "python",
   "pygments_lexer": "ipython3",
   "version": "3.8.12"
  }
 },
 "nbformat": 4,
 "nbformat_minor": 5
}
